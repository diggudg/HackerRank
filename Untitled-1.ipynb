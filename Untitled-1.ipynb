{
 "cells": [
  {
   "cell_type": "code",
   "execution_count": 2,
   "metadata": {
    "dotnet_interactive": {
     "language": "csharp"
    },
    "polyglot_notebook": {
     "kernelName": "csharp"
    }
   },
   "outputs": [
    {
     "name": "stdout",
     "output_type": "stream",
     "text": [
      "3\n"
     ]
    }
   ],
   "source": [
    "using System.Text.RegularExpressions;\n",
    "var pattern =\"aa\";\n",
    "var str = \"aaaaaaa\";\n",
    "\n",
    "var count = Regex.Matches(str, pattern).Count;\n",
    "\n",
    "Console.WriteLine(count);\n"
   ]
  },
  {
   "cell_type": "code",
   "execution_count": 5,
   "metadata": {
    "dotnet_interactive": {
     "language": "csharp"
    },
    "polyglot_notebook": {
     "kernelName": "csharp"
    }
   },
   "outputs": [
    {
     "name": "stdout",
     "output_type": "stream",
     "text": [
      "4\n"
     ]
    }
   ],
   "source": [
    "var pattern =\"aa\";\n",
    "var str = \"aaaaa\";\n",
    "\n",
    "int index=0;\n",
    "int count=0;\n",
    "while((index=str.IndexOf(pattern,index))!=-1)\n",
    "{\n",
    "    count++;\n",
    "    index++;\n",
    "}\n",
    "\n",
    "Console.WriteLine(count);\n"
   ]
  },
  {
   "cell_type": "code",
   "execution_count": 2,
   "metadata": {
    "dotnet_interactive": {
     "language": "csharp"
    },
    "polyglot_notebook": {
     "kernelName": "csharp"
    }
   },
   "outputs": [
    {
     "name": "stdout",
     "output_type": "stream",
     "text": [
      "0,4\n",
      "0,4\n",
      "0,2\n"
     ]
    }
   ],
   "source": [
    "\n",
    "int[] arr = new int[] {1, 1, 0, -1, -1};\n",
    "\n",
    "public static void plusMinus(List<int> arr)\n",
    "{\n",
    "Console.WriteLine(arr.Count(x=>x>0)/(double)arr.Count);\n",
    "Console.WriteLine(arr.Count(x=>x<0)/(double)arr.Count);\n",
    "Console.WriteLine(arr.Count(x=>x==0)/(double)arr.Count);\n",
    "}\n",
    "\n",
    "plusMinus(arr.ToList());\n",
    "\n"
   ]
  },
  {
   "cell_type": "code",
   "execution_count": 5,
   "metadata": {
    "dotnet_interactive": {
     "language": "javascript"
    },
    "polyglot_notebook": {
     "kernelName": "javascript"
    }
   },
   "outputs": [
    {
     "data": {
      "text/plain": [
       "0.4"
      ]
     },
     "metadata": {},
     "output_type": "display_data"
    },
    {
     "data": {
      "text/plain": [
       "0.4"
      ]
     },
     "metadata": {},
     "output_type": "display_data"
    },
    {
     "data": {
      "text/plain": [
       "0.2"
      ]
     },
     "metadata": {},
     "output_type": "display_data"
    }
   ],
   "source": [
    "function plusMinus(arr){\n",
    "    console.log(arr.filter(x=>x>0).length/arr.length);\n",
    "    console.log(arr.filter(x=>x<0).length/arr.length);\n",
    "    console.log(arr.filter(x=>x==0).length/arr.length);\n",
    "}\n",
    "\n",
    "plusMinus([1, 1, 0, -1, -1]);"
   ]
  },
  {
   "cell_type": "code",
   "execution_count": 12,
   "metadata": {
    "dotnet_interactive": {
     "language": "javascript"
    },
    "polyglot_notebook": {
     "kernelName": "javascript"
    }
   },
   "outputs": [
    {
     "data": {
      "text/plain": [
       "16"
      ]
     },
     "metadata": {},
     "output_type": "display_data"
    },
    {
     "data": {
      "text/plain": [
       "24"
      ]
     },
     "metadata": {},
     "output_type": "display_data"
    }
   ],
   "source": [
    "const arr=[1,3,5,7,9];\n",
    "let sumOfBetweenNumbers=0;\n",
    "let minSum=0;\n",
    "let maxSum=0;\n",
    "const ignoreLength=[0,arr.length-1]\n",
    "arr.forEach((x,index)=>{\n",
    "    if(!ignoreLength.includes(index)){\n",
    "        sumOfBetweenNumbers+=x;\n",
    "       \n",
    "    }\n",
    "});\n",
    "minSum= sumOfBetweenNumbers+ arr[0]<sumOfBetweenNumbers+ arr[arr.length-1]?sumOfBetweenNumbers+ arr[0]:sumOfBetweenNumbers+ arr[arr.length-1];\n",
    "\n",
    "maxSum= sumOfBetweenNumbers+ arr[0]>sumOfBetweenNumbers+ arr[arr.length-1]?sumOfBetweenNumbers+ arr[0]:sumOfBetweenNumbers+ arr[arr.length-1];\n",
    "\n",
    "console.log(minSum, maxSum);\n"
   ]
  },
  {
   "cell_type": "code",
   "execution_count": 38,
   "metadata": {
    "dotnet_interactive": {
     "language": "csharp"
    },
    "polyglot_notebook": {
     "kernelName": "csharp"
    }
   },
   "outputs": [
    {
     "name": "stdout",
     "output_type": "stream",
     "text": [
      "2572095760 2999145560"
     ]
    }
   ],
   "source": [
    "List<long> arr= new List<long>{793810624, 895642170, 685903712, 623789054, 468592370};\n",
    "long min=0;\n",
    "long max=0;\n",
    "long sumOfBetweenNumbers=0;\n",
    "int[] ignoreLength= new []{0, arr.Count()-1};\n",
    "arr.Sort();\n",
    "\n",
    "foreach (var (value, index) in arr.Select((v, i)=>(v, i))) {\n",
    "    if(!ignoreLength.Contains(index))\n",
    "    {\n",
    "        \n",
    "        sumOfBetweenNumbers+=value;\n",
    "    }\n",
    "}\n",
    "\n",
    "min= sumOfBetweenNumbers+arr[0]<sumOfBetweenNumbers+arr[arr.Count()-1]?sumOfBetweenNumbers+arr[0]:sumOfBetweenNumbers+arr[arr.Count()-1];\n",
    "max= sumOfBetweenNumbers+arr[0]>sumOfBetweenNumbers+arr[arr.Count()-1]?sumOfBetweenNumbers+arr[0]:sumOfBetweenNumbers+arr[arr.Count()-1];\n",
    "\n",
    "Console.Write(min);\n",
    "Console.Write(\" \");\n",
    "Console.Write( max);\n"
   ]
  },
  {
   "cell_type": "code",
   "execution_count": 4,
   "metadata": {
    "dotnet_interactive": {
     "language": "csharp"
    },
    "polyglot_notebook": {
     "kernelName": "csharp"
    }
   },
   "outputs": [
    {
     "name": "stdout",
     "output_type": "stream",
     "text": [
      "4\n",
      "2\n"
     ]
    }
   ],
   "source": [
    "List<int> candles= new List<int>(){4,4,1,3};\n",
    "candles.Sort();\n",
    "\n",
    "var lastMaxCandles= candles.Last();\n",
    "\n",
    "var  countOfMaxCandles= candles.Where(c=>c==lastMaxCandles).Count();\n",
    "Console.WriteLine(countOfMaxCandles);"
   ]
  },
  {
   "cell_type": "code",
   "execution_count": 5,
   "metadata": {
    "dotnet_interactive": {
     "language": "javascript"
    },
    "polyglot_notebook": {
     "kernelName": "javascript"
    }
   },
   "outputs": [
    {
     "data": {
      "text/plain": [
       "2"
      ]
     },
     "metadata": {},
     "output_type": "display_data"
    }
   ],
   "source": [
    "const candles= [4,4,1,3];\n",
    "candles.sort();\n",
    "var count= candles.filter(x=>x===candles[candles.length-1]).length;\n",
    "console.log(count);"
   ]
  },
  {
   "cell_type": "code",
   "execution_count": 15,
   "metadata": {
    "dotnet_interactive": {
     "language": "csharp"
    },
    "polyglot_notebook": {
     "kernelName": "csharp"
    }
   },
   "outputs": [
    {
     "name": "stdout",
     "output_type": "stream",
     "text": [
      "00:05:45\n"
     ]
    }
   ],
   "source": [
    "//https://www.hackerrank.com/challenges/time-conversion/problem\n",
    "string givenFirstTime= \"07:05:45PM\";\n",
    "string givenSecondTime= \"12:05:45AM\";\n",
    "\n",
    "var dt = DateTime.Parse(givenSecondTime);\n",
    "\n",
    "Console.WriteLine(dt.TimeOfDay.ToString());\n",
    "\n"
   ]
  },
  {
   "cell_type": "code",
   "execution_count": 26,
   "metadata": {
    "dotnet_interactive": {
     "language": "javascript"
    },
    "polyglot_notebook": {
     "kernelName": "javascript"
    }
   },
   "outputs": [
    {
     "ename": "Error",
     "evalue": "Module name \"date-fns\" has not been loaded yet for context: _. Use require([])\nhttps://requirejs.org/docs/errors.html#notloaded",
     "output_type": "error",
     "traceback": [
      "Module name \"date-fns\" has not been loaded yet for context: _. Use require([])\n",
      "https://requirejs.org/docs/errors.html#notloaded"
     ]
    }
   ],
   "source": [
    "const { parse } = require('date-fns');\n",
    "\n",
    "const givenFirstTime = \"07:05:45PM\";\n",
    "const givenSecondTime = \"12:05:45AM\";\n",
    "\n",
    "const dt1 = parse(givenFirstTime, 'hh:mm:ssa', new Date());\n",
    "const dt2 = parse(givenSecondTime, 'hh:mm:ssa', new Date());\n",
    "\n",
    "const time1 = dt1.toLocaleTimeString([], { hour12: false, hourCycle: 'h23', hour: '2-digit', minute: '2-digit', second: '2-digit' });\n",
    "const time2 = dt2.toLocaleTimeString([], { hour12: false, hourCycle: 'h23', hour: '2-digit', minute: '2-digit', second: '2-digit' });\n",
    "\n",
    "console.log(time1); // \"19:05:45\"\n",
    "console.log(time2); // \"00:05:45\""
   ]
  },
  {
   "cell_type": "code",
   "execution_count": 43,
   "metadata": {
    "dotnet_interactive": {
     "language": "csharp"
    },
    "polyglot_notebook": {
     "kernelName": "csharp"
    }
   },
   "outputs": [
    {
     "name": "stdout",
     "output_type": "stream",
     "text": [
      "111X\n",
      "1X12\n",
      "18X2\n",
      "123X\n"
     ]
    }
   ],
   "source": [
    "//https://www.hackerrank.com/challenges/cavity-map/problem\n",
    "\n",
    "var grid = new List<string>{\"1112\", \"1912\", \"1892\", \"1234\"};\n",
    "\n",
    "var modifiedGrid = grid.Select(str => {\n",
    "    int[] arr = str.Select(c => int.Parse(c.ToString())).ToArray();\n",
    "    int biggerDigit = arr.Max();\n",
    "    int biggerIndex = Array.LastIndexOf(arr, biggerDigit);\n",
    "    return str.Replace(biggerDigit.ToString(), biggerIndex == -1 ? \"\" : \"X\");\n",
    "}).ToList();\n",
    "\n",
    "foreach (var str in modifiedGrid) {\n",
    "    Console.WriteLine(str);\n",
    "}\n"
   ]
  },
  {
   "cell_type": "code",
   "execution_count": 35,
   "metadata": {
    "dotnet_interactive": {
     "language": "csharp"
    },
    "polyglot_notebook": {
     "kernelName": "csharp"
    }
   },
   "outputs": [
    {
     "name": "stdout",
     "output_type": "stream",
     "text": [
      "4\n",
      "75\n",
      "67\n",
      "40\n",
      "33\n"
     ]
    }
   ],
   "source": [
    "//https://www.hackerrank.com/challenges/grading/problem\n",
    "\n",
    "var grades= new List<int>(){4,73,67,38,33};\n",
    "var calculatedGrades= grades.Select(g=>{\n",
    "    if(g>35)\n",
    "    {\n",
    "            var remainder= g/5;\n",
    "            var nextDevisionOf5= (remainder+1)*5;\n",
    "            if((nextDevisionOf5-g)<=2)\n",
    "            {\n",
    "                g=nextDevisionOf5;\n",
    "            }\n",
    "    }\n",
    "            \n",
    "            //Console.WriteLine(remainder);\n",
    "   \n",
    "    return g;\n",
    "});\n",
    "\n",
    "foreach(var i in calculatedGrades){\n",
    "Console.WriteLine(i);\n",
    "}"
   ]
  },
  {
   "cell_type": "code",
   "execution_count": 29,
   "metadata": {
    "dotnet_interactive": {
     "language": "csharp"
    },
    "polyglot_notebook": {
     "kernelName": "csharp"
    }
   },
   "outputs": [
    {
     "name": "stdout",
     "output_type": "stream",
     "text": [
      "1\n",
      "1\n"
     ]
    }
   ],
   "source": [
    "//https://www.hackerrank.com/challenges/apple-and-orange\n",
    "\n",
    "public static void countApplesAndOranges(int s, int t, int a, int b, List<int> apples, List<int> oranges)\n",
    "{\n",
    "\n",
    "    var appleCount = apples.Where(x => x + a >= s && x + a <= t).Count();\n",
    "    var orangeCount = oranges.Where(x => x + b >= s && x + b <= t).Count();\n",
    "\n",
    "    Console.WriteLine(appleCount);\n",
    "    Console.WriteLine(orangeCount);\n",
    "\n",
    "}\n",
    "\n",
    "var listofApple= new List<int> (){-2,2,1};\n",
    "var orangeList= new List<int>(){5,-6};\n",
    "countApplesAndOranges(7,11,5,15,listofApple,orangeList);"
   ]
  },
  {
   "cell_type": "code",
   "execution_count": 60,
   "metadata": {
    "dotnet_interactive": {
     "language": "csharp"
    },
    "polyglot_notebook": {
     "kernelName": "csharp"
    }
   },
   "outputs": [
    {
     "name": "stdout",
     "output_type": "stream",
     "text": [
      "YES\n"
     ]
    }
   ],
   "source": [
    "//https://www.hackerrank.com/challenges/kangaroo/problem\n",
    "\n",
    "   public static string kangaroo(int x1, int v1, int x2, int v2)\n",
    "    {\n",
    "        var res= false;\n",
    "\n",
    "        if(v1>v2)\n",
    "        {\n",
    "            var remainder= (x2-x1)%(v1-v2);\n",
    "            if(remainder==0)\n",
    "            {\n",
    "                res=true;\n",
    "            }\n",
    "        }\n",
    "\n",
    "        return res?\"YES\":\"NO\";\n",
    "    }\n",
    "\n",
    " var res=   kangaroo(0,3, 4, 2);\n",
    "\n",
    " Console.WriteLine(res);"
   ]
  },
  {
   "cell_type": "code",
   "execution_count": 1,
   "metadata": {
    "dotnet_interactive": {
     "language": "csharp"
    },
    "polyglot_notebook": {
     "kernelName": "csharp"
    }
   },
   "outputs": [
    {
     "name": "stdout",
     "output_type": "stream",
     "text": [
      "3\n"
     ]
    }
   ],
   "source": [
    "//https://www.hackerrank.com/challenges/between-two-sets/problem\n",
    "\n",
    "\n",
    "public static int getTotalX(List<int> a, List<int> b)\n",
    "    {\n",
    "        var res=0;\n",
    "        var maxA= a.Max();\n",
    "        var minB= b.Min();\n",
    "        var betweenNumbers= new List<int>();\n",
    "        for(int i=maxA; i<=minB; i++)\n",
    "        {\n",
    "            var isBetween= true;\n",
    "            foreach(var item in a)\n",
    "            {\n",
    "                if(i%item!=0)\n",
    "                {\n",
    "                    isBetween=false;\n",
    "                    break;\n",
    "                }\n",
    "            }\n",
    "\n",
    "            if(isBetween)\n",
    "            {\n",
    "                betweenNumbers.Add(i);\n",
    "            }\n",
    "        }\n",
    "\n",
    "        foreach(var item in betweenNumbers)\n",
    "        {\n",
    "            var isBetween= true;\n",
    "            foreach(var item2 in b)\n",
    "            {\n",
    "                if(item2%item!=0)\n",
    "                {\n",
    "                    isBetween=false;\n",
    "                    break;\n",
    "                }\n",
    "            }\n",
    "\n",
    "            if(isBetween)\n",
    "            {\n",
    "                res++;\n",
    "            }\n",
    "        }\n",
    "\n",
    "        return res;\n",
    "    }\n",
    "\n",
    "    var res= getTotalX(new List<int>(){2,4}, new List<int>(){16,32,96});\n",
    "\n",
    "    Console.WriteLine(res);\n",
    "\n",
    "    //Explain this solution \n",
    "    //https://www.hackerrank.com/challenges/breaking-best-and-worst-records/problem\n",
    "    "
   ]
  },
  {
   "cell_type": "code",
   "execution_count": 6,
   "metadata": {
    "dotnet_interactive": {
     "language": "csharp"
    },
    "polyglot_notebook": {
     "kernelName": "csharp"
    }
   },
   "outputs": [
    {
     "name": "stdout",
     "output_type": "stream",
     "text": [
      "3\n"
     ]
    }
   ],
   "source": [
    "// Create record type named Vehicle and add properties to it should be {id, name, type}\n",
    "\n",
    "public record Vehicle(int Id, string Name, string Type);\n",
    "\n",
    "\n",
    "\n",
    "// Create a list of Vehicle objects\n",
    "\n",
    "var list = new List<Vehicle>();\n",
    "\n",
    "list.Add(new Vehicle(1, \"Car\", \"Sedan\"));\n",
    "list.Add(new Vehicle(2, \"Truck\", \"SUV\"));\n",
    "list.Add(new Vehicle(3, \"Truck\", \"Hatchback\"));\n",
    "list.Add(new Vehicle(4, \"Truck\", \"Coupe\"));\n",
    "\n",
    "// convert list into  a dictionary of Vehicle objects in form of {id, Vehicle}\n",
    "\n",
    "var dict = list.Where(x=>x.Name==\"Truck\").ToDictionary(x => x.Id, x => x);\n",
    "\n",
    "Console.WriteLine(dict.Count);\n",
    "\n",
    "\n",
    "\n"
   ]
  }
 ],
 "metadata": {
  "kernelspec": {
   "display_name": ".NET (C#)",
   "language": "C#",
   "name": ".net-csharp"
  },
  "language_info": {
   "name": "polyglot-notebook"
  },
  "orig_nbformat": 4,
  "polyglot_notebook": {
   "kernelInfo": {
    "defaultKernelName": "csharp",
    "items": [
     {
      "aliases": [],
      "name": "csharp"
     }
    ]
   }
  }
 },
 "nbformat": 4,
 "nbformat_minor": 2
}
